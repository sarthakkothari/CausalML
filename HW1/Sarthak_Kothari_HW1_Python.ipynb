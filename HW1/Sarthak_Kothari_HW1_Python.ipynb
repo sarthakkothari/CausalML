{
 "cells": [
  {
   "cell_type": "code",
   "execution_count": 1,
   "metadata": {
    "ExecuteTime": {
     "end_time": "2019-06-01T00:01:58.156218Z",
     "start_time": "2019-06-01T00:01:57.678583Z"
    }
   },
   "outputs": [],
   "source": [
    "import pyro\n",
    "import torch\n",
    "import matplotlib.pyplot as plt\n",
    "\n",
    "from pyro.infer import EmpiricalMarginal\n",
    "from pyro.infer import Importance\n",
    "pyro.set_rng_seed(101)"
   ]
  },
  {
   "cell_type": "code",
   "execution_count": 2,
   "metadata": {
    "ExecuteTime": {
     "end_time": "2019-06-01T00:01:58.164355Z",
     "start_time": "2019-06-01T00:01:58.158803Z"
    }
   },
   "outputs": [],
   "source": [
    "def setProb():\n",
    "    a = [0.47, 0.21,0.32]\n",
    "    s = [0.40, 0.60]\n",
    "    e = [[[0.64, 0.36], \n",
    "         [0.83, 0.17], \n",
    "         [0.54, 0.46]],\n",
    "         [[0.72, 0.28], \n",
    "         [0.88, 0.12],\n",
    "         [0.81, 0.19]]]\n",
    "    o = [[0.97,0.03],\n",
    "         [0.91,0.09]]\n",
    "    r = [[0.71, 0.29],\n",
    "         [0.85,0.15]]\n",
    "    t = [[[0.58,  0.20, 0.22],\n",
    "            [0.64, 0.18, 0.18]],\n",
    "         [[0.54, 0.08, 0.38], \n",
    "             [0.59, 0.28, 0.12]]\n",
    "        ]\n",
    "    prob_dict = { 'a': a, 's': s, 'e':e, 'o':o, 'r':r, 't':t}\n",
    "    return prob_dict"
   ]
  },
  {
   "cell_type": "markdown",
   "metadata": {},
   "source": [
    "1. Source code for the model"
   ]
  },
  {
   "cell_type": "code",
   "execution_count": 3,
   "metadata": {
    "ExecuteTime": {
     "end_time": "2019-06-01T00:01:58.173146Z",
     "start_time": "2019-06-01T00:01:58.166607Z"
    }
   },
   "outputs": [],
   "source": [
    "def model(prob_dict):\n",
    "    a = pyro.sample(\"a\", \n",
    "            pyro.distributions.Categorical(torch.tensor(prob_dict['a'])))\n",
    "    s = pyro.sample(\"s\",\n",
    "            pyro.distributions.Categorical(torch.tensor(prob_dict['s'])))\n",
    "    \n",
    "    \n",
    "    e = pyro.sample(\"e\", \n",
    "            pyro.distributions.Categorical(torch.tensor(prob_dict['e'][s][a])))\n",
    "    \n",
    "    o = pyro.sample(\"o\", \n",
    "            pyro.distributions.Categorical(torch.tensor(prob_dict['o'][e])))\n",
    "    r = pyro.sample(\"r\", \n",
    "            pyro.distributions.Categorical(torch.tensor(prob_dict['r'][e])))\n",
    "    \n",
    "    \n",
    "    t= pyro.sample(\"t\", \n",
    "            pyro.distributions.Categorical(torch.tensor(prob_dict['t'][o][r])))\n",
    "    \n",
    "    return t"
   ]
  },
  {
   "cell_type": "markdown",
   "metadata": {},
   "source": [
    "2.1 Conditioning r = 'big' and o = 'self'"
   ]
  },
  {
   "cell_type": "code",
   "execution_count": 4,
   "metadata": {
    "ExecuteTime": {
     "end_time": "2019-06-01T00:01:58.181466Z",
     "start_time": "2019-06-01T00:01:58.176345Z"
    }
   },
   "outputs": [],
   "source": [
    "def drawHist():\n",
    "    prob_dict = setProb()\n",
    "    result = []\n",
    "    for _ in range(1000):\n",
    "        t = pyro.condition(model, \n",
    "                data={'r': torch.tensor(0), 'o':torch.tensor(1)})(prob_dict)\n",
    "        result.append('car' if t == 0 else 'other' if t==1 else 'train')\n",
    "    plt.hist(result)\n",
    "    plt.ylabel('Frequency')\n",
    "    plt.xlabel('Mode of Transport')\n",
    "    plt.show()"
   ]
  },
  {
   "cell_type": "code",
   "execution_count": 5,
   "metadata": {
    "ExecuteTime": {
     "end_time": "2019-06-01T00:01:58.591856Z",
     "start_time": "2019-06-01T00:01:58.183063Z"
    }
   },
   "outputs": [
    {
     "data": {
      "image/png": "[encoded data removed]",
      "text/plain": [
       "<Figure size 432x288 with 1 Axes>"
      ]
     },
     "metadata": {
      "needs_background": "light"
     },
     "output_type": "display_data"
    }
   ],
   "source": [
    "drawHist()"
   ]
  },
  {
   "cell_type": "markdown",
   "metadata": {},
   "source": [
    "2.2 Guessing Age"
   ]
  },
  {
   "cell_type": "code",
   "execution_count": 6,
   "metadata": {
    "ExecuteTime": {
     "end_time": "2019-06-01T00:01:58.599835Z",
     "start_time": "2019-06-01T00:01:58.594053Z"
    }
   },
   "outputs": [],
   "source": [
    "def drawHist():\n",
    "    prob_dict = setProb()\n",
    "    age = []\n",
    "    cModel = pyro.condition(model, \n",
    "                data={'r': torch.tensor(0), 'o':torch.tensor(1)})\n",
    "    importance = Importance(cModel, num_samples=1000).run(prob_dict)\n",
    "    m = EmpiricalMarginal(importance, \"a\")\n",
    "    for _ in range(1000):\n",
    "        t = m().item()\n",
    "        age.append('adult' if t == 0 else 'old' if t==1 else 'young')\n",
    "    plt.hist(age)\n",
    "    plt.ylabel('Frequency')\n",
    "    plt.xlabel('Age')\n",
    "    plt.show()"
   ]
  },
  {
   "cell_type": "code",
   "execution_count": 7,
   "metadata": {
    "ExecuteTime": {
     "end_time": "2019-06-01T00:02:00.264334Z",
     "start_time": "2019-06-01T00:01:58.601752Z"
    }
   },
   "outputs": [
    {
     "data": {
      "image/png": "[encoded data removed]",
      "text/plain": [
       "<Figure size 432x288 with 1 Axes>"
      ]
     },
     "metadata": {
      "needs_background": "light"
     },
     "output_type": "display_data"
    }
   ],
   "source": [
    "drawHist()"
   ]
  }
 ],
 "metadata": {
  "kernelspec": {
   "display_name": "Python 3",
   "language": "python",
   "name": "python3"
  },
  "language_info": {
   "codemirror_mode": {
    "name": "ipython",
    "version": 3
   },
   "file_extension": ".py",
   "mimetype": "text/x-python",
   "name": "python",
   "nbconvert_exporter": "python",
   "pygments_lexer": "ipython3",
   "version": "3.6.7"
  }
 },
 "nbformat": 4,
 "nbformat_minor": 2
}
