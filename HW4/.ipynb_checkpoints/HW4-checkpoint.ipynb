{
 "cells": [
  {
   "cell_type": "code",
   "execution_count": 31,
   "metadata": {
    "ExecuteTime": {
     "end_time": "2019-08-03T21:17:00.687786Z",
     "start_time": "2019-08-03T21:17:00.426548Z"
    }
   },
   "outputs": [],
   "source": [
    "import pandas as pd\n",
    "import numpy as np\n",
    "import matplotlib.pyplot as plt"
   ]
  },
  {
   "cell_type": "code",
   "execution_count": 10,
   "metadata": {
    "ExecuteTime": {
     "end_time": "2019-08-03T21:00:23.132447Z",
     "start_time": "2019-08-03T21:00:23.122398Z"
    }
   },
   "outputs": [],
   "source": [
    "data = pd.read_csv('HW4.csv')\n",
    "data = data.iloc[:, 1:]"
   ]
  },
  {
   "cell_type": "code",
   "execution_count": 11,
   "metadata": {
    "ExecuteTime": {
     "end_time": "2019-08-03T21:00:23.449409Z",
     "start_time": "2019-08-03T21:00:23.438410Z"
    }
   },
   "outputs": [
    {
     "data": {
      "text/html": [
       "<div>\n",
       "<style scoped>\n",
       "    .dataframe tbody tr th:only-of-type {\n",
       "        vertical-align: middle;\n",
       "    }\n",
       "\n",
       "    .dataframe tbody tr th {\n",
       "        vertical-align: top;\n",
       "    }\n",
       "\n",
       "    .dataframe thead th {\n",
       "        text-align: right;\n",
       "    }\n",
       "</style>\n",
       "<table border=\"1\" class=\"dataframe\">\n",
       "  <thead>\n",
       "    <tr style=\"text-align: right;\">\n",
       "      <th></th>\n",
       "      <th>x</th>\n",
       "      <th>y</th>\n",
       "      <th>z</th>\n",
       "    </tr>\n",
       "  </thead>\n",
       "  <tbody>\n",
       "    <tr>\n",
       "      <th>0</th>\n",
       "      <td>0</td>\n",
       "      <td>1.490090</td>\n",
       "      <td>0</td>\n",
       "    </tr>\n",
       "    <tr>\n",
       "      <th>1</th>\n",
       "      <td>1</td>\n",
       "      <td>5.170279</td>\n",
       "      <td>1</td>\n",
       "    </tr>\n",
       "    <tr>\n",
       "      <th>2</th>\n",
       "      <td>1</td>\n",
       "      <td>7.434170</td>\n",
       "      <td>1</td>\n",
       "    </tr>\n",
       "    <tr>\n",
       "      <th>3</th>\n",
       "      <td>0</td>\n",
       "      <td>1.531446</td>\n",
       "      <td>0</td>\n",
       "    </tr>\n",
       "    <tr>\n",
       "      <th>4</th>\n",
       "      <td>0</td>\n",
       "      <td>0.935765</td>\n",
       "      <td>0</td>\n",
       "    </tr>\n",
       "  </tbody>\n",
       "</table>\n",
       "</div>"
      ],
      "text/plain": [
       "   x         y  z\n",
       "0  0  1.490090  0\n",
       "1  1  5.170279  1\n",
       "2  1  7.434170  1\n",
       "3  0  1.531446  0\n",
       "4  0  0.935765  0"
      ]
     },
     "execution_count": 11,
     "metadata": {},
     "output_type": "execute_result"
    }
   ],
   "source": [
    "data.head()"
   ]
  },
  {
   "cell_type": "code",
   "execution_count": 15,
   "metadata": {
    "ExecuteTime": {
     "end_time": "2019-08-03T21:08:40.644607Z",
     "start_time": "2019-08-03T21:08:40.637798Z"
    }
   },
   "outputs": [
    {
     "name": "stdout",
     "output_type": "stream",
     "text": [
      "E[Y | X == 0] =  0.6409639797240381\n",
      "E[Y | X == 1] =  4.436555490118973\n"
     ]
    }
   ],
   "source": [
    "print('E[Y | X == 1] = ', str(np.mean(data[data['x'] == 1]['y'])))"
   ]
  },
  {
   "cell_type": "code",
   "execution_count": 27,
   "metadata": {
    "ExecuteTime": {
     "end_time": "2019-08-03T21:11:51.091157Z",
     "start_time": "2019-08-03T21:11:51.085111Z"
    }
   },
   "outputs": [],
   "source": [
    "z1 = len(data[(data['x'] == 0) & (data['z'] == 1)])/len(data[data['x'] == 0])"
   ]
  },
  {
   "cell_type": "code",
   "execution_count": 28,
   "metadata": {
    "ExecuteTime": {
     "end_time": "2019-08-03T21:11:51.312218Z",
     "start_time": "2019-08-03T21:11:51.305969Z"
    }
   },
   "outputs": [],
   "source": [
    "z0 = len(data[(data['x'] == 0) & (data['z'] == 0)])/len(data[data['x'] == 0])"
   ]
  },
  {
   "cell_type": "code",
   "execution_count": 34,
   "metadata": {
    "ExecuteTime": {
     "end_time": "2019-08-03T21:18:02.967982Z",
     "start_time": "2019-08-03T21:18:02.962906Z"
    }
   },
   "outputs": [],
   "source": [
    "y_z0 = np.mean(data[(data['x'] == 1) & (data['z'] == 0)]['y'])"
   ]
  },
  {
   "cell_type": "code",
   "execution_count": 35,
   "metadata": {
    "ExecuteTime": {
     "end_time": "2019-08-03T21:18:03.513500Z",
     "start_time": "2019-08-03T21:18:03.508514Z"
    }
   },
   "outputs": [],
   "source": [
    "y_z1 = np.mean(data[(data['x'] == 1) & (data['z'] == 1)]['y'])"
   ]
  },
  {
   "cell_type": "code",
   "execution_count": 38,
   "metadata": {
    "ExecuteTime": {
     "end_time": "2019-08-03T21:19:21.438267Z",
     "start_time": "2019-08-03T21:19:21.433425Z"
    }
   },
   "outputs": [
    {
     "data": {
      "text/plain": [
       "2.711351862549141"
      ]
     },
     "execution_count": 38,
     "metadata": {},
     "output_type": "execute_result"
    }
   ],
   "source": [
    "(4.436555490118973) - ((y_z1 * z1) + (y_z0 * z0))"
   ]
  },
  {
   "cell_type": "code",
   "execution_count": null,
   "metadata": {},
   "outputs": [],
   "source": []
  }
 ],
 "metadata": {
  "kernelspec": {
   "display_name": "Python 3",
   "language": "python",
   "name": "python3"
  },
  "language_info": {
   "codemirror_mode": {
    "name": "ipython",
    "version": 3
   },
   "file_extension": ".py",
   "mimetype": "text/x-python",
   "name": "python",
   "nbconvert_exporter": "python",
   "pygments_lexer": "ipython3",
   "version": "3.6.7"
  }
 },
 "nbformat": 4,
 "nbformat_minor": 2
}
