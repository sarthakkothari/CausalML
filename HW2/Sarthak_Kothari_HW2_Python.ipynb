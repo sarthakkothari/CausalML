{
 "cells": [
  {
   "cell_type": "code",
   "execution_count": 1,
   "metadata": {
    "ExecuteTime": {
     "end_time": "2019-06-14T22:21:27.253968Z",
     "start_time": "2019-06-14T22:21:25.740559Z"
    }
   },
   "outputs": [],
   "source": [
    "import pyro\n",
    "import torch\n",
    "import numpy as np\n",
    "import pandas as pd\n",
    "import matplotlib.pyplot as plt\n",
    "\n",
    "from pyro.infer import EmpiricalMarginal\n",
    "from pyro.infer import Importance\n",
    "pyro.set_rng_seed(101)"
   ]
  },
  {
   "cell_type": "code",
   "execution_count": 2,
   "metadata": {
    "ExecuteTime": {
     "end_time": "2019-06-14T22:21:27.260098Z",
     "start_time": "2019-06-14T22:21:27.256101Z"
    }
   },
   "outputs": [],
   "source": [
    "def setProb():\n",
    "    a = [0.5, 0.5]\n",
    "    b = [[0.8,0.1],\n",
    "         [0.2,0.9]]\n",
    "    c = [[[[0.9, 0.99],\n",
    "        [0.1, 0.01]]],\n",
    "        [[0.1, 0.4],\n",
    "        [0.9, 0.6]]]\n",
    "    prob_dict = { 'a': a, 'b': b, 'c':c}\n",
    "    return prob_dict"
   ]
  },
  {
   "cell_type": "code",
   "execution_count": 3,
   "metadata": {
    "ExecuteTime": {
     "end_time": "2019-06-14T22:21:27.268377Z",
     "start_time": "2019-06-14T22:21:27.262602Z"
    }
   },
   "outputs": [],
   "source": [
    "def model(prob_dict):\n",
    "    a = pyro.sample(\"a\", \n",
    "            pyro.distributions.Categorical(torch.tensor(prob_dict['a'])))\n",
    "    b = pyro.sample(\"b\",\n",
    "            pyro.distributions.Categorical(torch.tensor(prob_dict['b'][a])))\n",
    "    \n",
    "    \n",
    "    c = pyro.sample(\"c\", \n",
    "            pyro.distributions.Categorical(torch.tensor(prob_dict['c'][b][a])))\n",
    "    \n",
    "    return c"
   ]
  },
  {
   "cell_type": "markdown",
   "metadata": {},
   "source": [
    "3.6.1 Source code for the model -> P(A= on | b = 'on' and c = 'on')"
   ]
  },
  {
   "cell_type": "code",
   "execution_count": 4,
   "metadata": {
    "ExecuteTime": {
     "end_time": "2019-06-14T22:21:27.309002Z",
     "start_time": "2019-06-14T22:21:27.271653Z"
    }
   },
   "outputs": [],
   "source": [
    "def drawHist():\n",
    "    prob_dict = setProb()\n",
    "    a_list = []\n",
    "    cModel = pyro.condition(model, \n",
    "                data={'b': torch.tensor(1), 'c':torch.tensor(1)})\n",
    "    importance = Importance(cModel, num_samples=20000).run(prob_dict)\n",
    "    m = EmpiricalMarginal(importance, \"a\")\n",
    "    for _ in range(20000):\n",
    "        a = m().item()\n",
    "        a_list.append('on' if a == 1 else 'off')\n",
    "    p = (np.unique(a_list, return_counts=True)[1][1]/len(a_list))\n",
    "    plt.hist(a_list)\n",
    "    plt.ylabel('Frequency')\n",
    "    plt.xlabel('A')\n",
    "    plt.title(' P(A = on | b = on and c = on) =' + str(p))\n",
    "    plt.show()"
   ]
  },
  {
   "cell_type": "code",
   "execution_count": 5,
   "metadata": {
    "ExecuteTime": {
     "end_time": "2019-06-14T22:21:51.377296Z",
     "start_time": "2019-06-14T22:21:27.311164Z"
    }
   },
   "outputs": [
    {
     "data": {
      "image/png": "[encoded data removed]",
      "text/plain": [
       "<Figure size 432x288 with 1 Axes>"
      ]
     },
     "metadata": {
      "needs_background": "light"
     },
     "output_type": "display_data"
    }
   ],
   "source": [
    "drawHist()"
   ]
  },
  {
   "cell_type": "markdown",
   "metadata": {},
   "source": [
    "3.6.2 Source code for the model -> P(A= on | do(b = 'on') and c = 'on')"
   ]
  },
  {
   "cell_type": "code",
   "execution_count": 6,
   "metadata": {
    "ExecuteTime": {
     "end_time": "2019-06-14T22:21:51.385208Z",
     "start_time": "2019-06-14T22:21:51.379284Z"
    }
   },
   "outputs": [],
   "source": [
    "def drawHist():\n",
    "    prob_dict = setProb()\n",
    "    a_list = []\n",
    "    cModel = pyro.condition(model, \n",
    "                data={'c':torch.tensor(1)})\n",
    "    dModel = pyro.do(cModel, data={'b' : torch.tensor(1)})\n",
    "    importance = Importance(dModel, num_samples=20000).run(prob_dict)\n",
    "    m = EmpiricalMarginal(importance, \"a\")\n",
    "    for _ in range(20000):\n",
    "        a = m().item()\n",
    "        a_list.append('on' if a == 1 else 'off')\n",
    "    p = (np.unique(a_list, return_counts=True)[1][1]/len(a_list))\n",
    "    plt.hist(a_list)\n",
    "    plt.ylabel('Frequency')\n",
    "    plt.xlabel('A')\n",
    "    plt.title(' P(A = on | do(b = on) and c = on) =' + str(p))\n",
    "    plt.show()"
   ]
  },
  {
   "cell_type": "code",
   "execution_count": 7,
   "metadata": {
    "ExecuteTime": {
     "end_time": "2019-06-14T22:22:14.514059Z",
     "start_time": "2019-06-14T22:21:51.386902Z"
    }
   },
   "outputs": [
    {
     "data": {
      "image/png": "[encoded data removed]",
      "text/plain": [
       "<Figure size 432x288 with 1 Axes>"
      ]
     },
     "metadata": {
      "needs_background": "light"
     },
     "output_type": "display_data"
    }
   ],
   "source": [
    "drawHist()"
   ]
  }
 ],
 "metadata": {
  "kernelspec": {
   "display_name": "Python 3",
   "language": "python",
   "name": "python3"
  },
  "language_info": {
   "codemirror_mode": {
    "name": "ipython",
    "version": 3
   },
   "file_extension": ".py",
   "mimetype": "text/x-python",
   "name": "python",
   "nbconvert_exporter": "python",
   "pygments_lexer": "ipython3",
   "version": "3.6.7"
  }
 },
 "nbformat": 4,
 "nbformat_minor": 2
}
