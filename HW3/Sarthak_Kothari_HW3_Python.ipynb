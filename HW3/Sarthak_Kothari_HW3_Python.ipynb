{
 "cells": [
  {
   "cell_type": "markdown",
   "metadata": {},
   "source": [
    "## Q1"
   ]
  },
  {
   "cell_type": "markdown",
   "metadata": {},
   "source": [
    "### 1.1 "
   ]
  },
  {
   "cell_type": "markdown",
   "metadata": {},
   "source": [
    "#### 1.1.1   You are interested in estimating the causal effect of X on Y.  What is the valid adjustment set?\n",
    "\n",
    "VA = {U}"
   ]
  },
  {
   "cell_type": "markdown",
   "metadata": {},
   "source": [
    "#### 1.1.2 What would happen if you adjusted for W?  Be specific.\n",
    "\n",
    "It activate the back-door path since W is the descendant of X."
   ]
  },
  {
   "cell_type": "markdown",
   "metadata": {},
   "source": [
    "#### 1.1.3 Suppose you want to assess the effect of X on Y for users who go on to have a high amount of app usage. You wanted to compute the causal effect for each level of W. Fill in the blanks on the right-hand-side and left-hand-side for the adjustment formula of interest:\n",
    "\n",
    "$P(Y = y | do(X=x)) = \\sum_{u} P(Y = y | X=x, W=w,U=u)P(U=u|X=x, W=w) $"
   ]
  },
  {
   "cell_type": "markdown",
   "metadata": {},
   "source": [
    "### 1.2"
   ]
  },
  {
   "cell_type": "markdown",
   "metadata": {},
   "source": [
    "#### 1.2.1 Is the set containing only Z a valid adjustment set?  Why or why not?\n",
    "\n",
    "It is not an adjustment set.\n",
    "If you adjust on Z it opens up the backdoor path for which the Z is collider, that is, X<---E--->Z<---A--->Y"
   ]
  },
  {
   "cell_type": "markdown",
   "metadata": {},
   "source": [
    "#### 1.2.2 List all of the valid adjustment sets (there are three) and write the adjustment formula for each adjustment set.\n",
    "\n",
    "1. (A,Z) <br>\n",
    "$P(Y = y | do(X=x)) = \\sum_{a} \\sum_{z} P(Y = y | X=x, A=a,Z=z)P(A=a, Z=z)$\n",
    "\n",
    "2. (E,Z) <br>\n",
    "$P(Y = y | do(X=x)) = \\sum_{e} \\sum_{z} P(Y = y | X=x, E=e,Z=z)P(E=e, Z=z)$\n",
    "\n",
    "\n",
    "3. (A,E,Z) <br>\n",
    "$P(Y = y | do(X=x)) = \\sum_{e} \\sum_{z} \\sum_{a} P(Y = y | X=x, E=e, A=a,Z=z)P(A=a, E=e, Z=z)$\n"
   ]
  },
  {
   "cell_type": "markdown",
   "metadata": {},
   "source": [
    "#### 1.2.3 Suppose that E and A are both observable, but observing E costs \\\\$10 per data point and observing A costs \\\\$5 per data point.  Which conditioning set do you go with?\n",
    "\n",
    "A,Z"
   ]
  },
  {
   "cell_type": "markdown",
   "metadata": {},
   "source": [
    "### 1.3"
   ]
  },
  {
   "cell_type": "markdown",
   "metadata": {},
   "source": [
    "#### 1.3.1 List all of the sets of variables that satisfy the backdoor criterion to determine the causal effect of X on Y.\n",
    "\n",
    "{Z, A}\n",
    "{Z, B}\n",
    "{Z, C}\n",
    "{Z, D}\n",
    "{Z, A, B}\n",
    "{Z, A, C}\n",
    "{Z, A, D}\n",
    "{Z, B, C}\n",
    "{Z, B, D}\n",
    "{Z, D, C}\n",
    "{Z, A, B, C}\n",
    "{Z, A, B, D}\n",
    "{Z, B, C, D}\n",
    "{Z, A, B, C, D}"
   ]
  },
  {
   "cell_type": "markdown",
   "metadata": {},
   "source": [
    "#### 1.3.2 List all of the minimal sets of variables that satisfy the backdoor criterion to determine the causal effect of X on Y (i.e., any set of variables such that, if you removed any one of the variables from the set, it would no longer meet the criterion).\n",
    "\n",
    "The minimal set required is of atleast 2 nodes. We have 4 such cases:-\n",
    "{Z, A}\n",
    "{Z, B}\n",
    "{Z, C}\n",
    "{Z, D}\n"
   ]
  },
  {
   "cell_type": "markdown",
   "metadata": {},
   "source": [
    "#### 1.3.3 List all the minimal sets of variables that need to be measured in order to identify the effect of D on Y.\n",
    "\n",
    "{C}\n",
    "{Z, B}\n",
    "{Z, A}\n",
    "{Z, X}\n",
    "{W, Z}"
   ]
  },
  {
   "cell_type": "markdown",
   "metadata": {},
   "source": [
    "#### 1.3.4 Now suppose we want to know the causal effect of intervening on 2 variables.  List all the minimal sets of variables that need to be measured in order to identify the effect of set {D, W} on Y, i.e., $P(Y=y|do(D=d), do(W=w))$.\n",
    "\n",
    "{Z, A}\n",
    "{Z, B}\n",
    "{Z, C}\n",
    "{Z, X}\n",
    "{C, X}\n"
   ]
  },
  {
   "cell_type": "markdown",
   "metadata": {},
   "source": [
    "## Q2"
   ]
  },
  {
   "cell_type": "code",
   "execution_count": 1,
   "metadata": {
    "ExecuteTime": {
     "end_time": "2019-06-30T20:17:27.536062Z",
     "start_time": "2019-06-30T20:17:25.292009Z"
    }
   },
   "outputs": [],
   "source": [
    "import pyro\n",
    "import torch\n",
    "import random\n",
    "import numpy as np\n",
    "import pandas as pd\n",
    "import matplotlib.pyplot as plt\n",
    "\n",
    "from pyro.infer import EmpiricalMarginal\n",
    "from pyro.infer.mcmc import MCMC\n",
    "from pyro.infer.mcmc.nuts import HMC\n",
    "from pyro.infer.mcmc import NUTS\n",
    "from pyro.infer import Importance\n",
    "from pyro.distributions import Normal\n",
    "\n",
    "\n",
    "from functools import partial\n",
    "\n",
    "pyro.set_rng_seed(101)"
   ]
  },
  {
   "cell_type": "markdown",
   "metadata": {},
   "source": [
    "### 2.1"
   ]
  },
  {
   "cell_type": "code",
   "execution_count": 2,
   "metadata": {
    "ExecuteTime": {
     "end_time": "2019-06-30T20:17:27.544395Z",
     "start_time": "2019-06-30T20:17:27.539347Z"
    }
   },
   "outputs": [],
   "source": [
    "def setProb():\n",
    "    h = [0.51, 0.49]\n",
    "    x = [ [0.25, 0.75], \n",
    "          [0.76, 0.24]\n",
    "        ]\n",
    "    y = [   [[0.07, 0.93], \n",
    "             [0.13, 0.87]],\n",
    "            [[0.27, 0.73], \n",
    "             [0.31, 0.69]]   \n",
    "        ]\n",
    "    prob_dict = { 'h': h, 'x': x, 'y': y}\n",
    "    return prob_dict"
   ]
  },
  {
   "cell_type": "code",
   "execution_count": 3,
   "metadata": {
    "ExecuteTime": {
     "end_time": "2019-06-30T20:17:27.556590Z",
     "start_time": "2019-06-30T20:17:27.547941Z"
    }
   },
   "outputs": [],
   "source": [
    "def model(prob_dict):\n",
    "    h = pyro.sample(\"h\", \n",
    "            pyro.distributions.Categorical(torch.tensor(prob_dict['h'])))\n",
    "    x = pyro.sample(\"x\",\n",
    "            pyro.distributions.Categorical(torch.tensor(prob_dict['x'][h])))\n",
    "    \n",
    "    \n",
    "    y = pyro.sample(\"y\", \n",
    "            pyro.distributions.Categorical(torch.tensor(prob_dict['y'][h][x])))\n",
    "    \n",
    "    return y"
   ]
  },
  {
   "cell_type": "code",
   "execution_count": 4,
   "metadata": {
    "ExecuteTime": {
     "end_time": "2019-06-30T20:17:27.574165Z",
     "start_time": "2019-06-30T20:17:27.564977Z"
    }
   },
   "outputs": [],
   "source": [
    "def plotHist(result, title, target=1, show=True, header=True):\n",
    "    p = (np.unique(result, return_counts=True)[1][target]/len(result))\n",
    "    if show:\n",
    "        plt.hist(result)\n",
    "        plt.ylabel('Frequency')\n",
    "        plt.xlabel('Y')\n",
    "        if header:\n",
    "            plt.title(title + str(p))\n",
    "        plt.show()\n",
    "    if header:\n",
    "        print(title + str(p))\n",
    "    return p"
   ]
  },
  {
   "cell_type": "markdown",
   "metadata": {},
   "source": [
    "#### 2.1.1 Build the model with Pyro using the values in the table.  Use pyro.condition to calculate the causal effect by adjusting for happiness."
   ]
  },
  {
   "cell_type": "code",
   "execution_count": 5,
   "metadata": {
    "ExecuteTime": {
     "end_time": "2019-06-30T20:17:27.595137Z",
     "start_time": "2019-06-30T20:17:27.579890Z"
    }
   },
   "outputs": [],
   "source": [
    "def drawHist():\n",
    "    prob_dict = setProb()\n",
    "    y_list = []\n",
    "    probs = []\n",
    "    \n",
    "    for x in range(2):\n",
    "        p = 0\n",
    "        for h in range(2):\n",
    "            y_list= []\n",
    "            for _ in range(1000):\n",
    "                y = pyro.condition(model, \n",
    "                        data={'h': torch.tensor(h), 'x': torch.tensor(x)})(prob_dict)\n",
    "                y_list.append(y)\n",
    "            current_p = plotHist(y_list, 'P(Y = 1 | X = '+str(x)+', H = '+str(h)+') =', show=False)\n",
    "            p +=  current_p * prob_dict['h'][h]\n",
    "        probs.append(p)\n",
    "    \n",
    "    print('P(Y=1|do(X=0)) = ' + str(probs[0]))\n",
    "    print('P(Y=1|do(X=1)) = ' + str(probs[1]))\n",
    "    print('P(Y=1|do(X=0)) - P(Y=1|do(X=1)) = ' + str(probs[0]-probs[1]))\n",
    "    return probs"
   ]
  },
  {
   "cell_type": "code",
   "execution_count": 6,
   "metadata": {
    "ExecuteTime": {
     "end_time": "2019-06-30T20:17:28.881391Z",
     "start_time": "2019-06-30T20:17:27.597613Z"
    }
   },
   "outputs": [
    {
     "name": "stdout",
     "output_type": "stream",
     "text": [
      "P(Y = 1 | X = 0, H = 0) =0.934\n",
      "P(Y = 1 | X = 0, H = 1) =0.73\n",
      "P(Y = 1 | X = 1, H = 0) =0.863\n",
      "P(Y = 1 | X = 1, H = 1) =0.706\n",
      "P(Y=1|do(X=0)) = 0.83404\n",
      "P(Y=1|do(X=1)) = 0.78607\n",
      "P(Y=1|do(X=0)) - P(Y=1|do(X=1)) = 0.04796999999999996\n"
     ]
    }
   ],
   "source": [
    "probs_21 = drawHist()"
   ]
  },
  {
   "cell_type": "markdown",
   "metadata": {},
   "source": [
    "#### 2.1.2 Suppose you could not observe happiness.  Use `pyro.do` to calculate the causal effect with do-calculus."
   ]
  },
  {
   "cell_type": "code",
   "execution_count": 7,
   "metadata": {
    "ExecuteTime": {
     "end_time": "2019-06-30T20:17:28.895825Z",
     "start_time": "2019-06-30T20:17:28.884343Z"
    }
   },
   "outputs": [],
   "source": [
    "def drawHist():\n",
    "    prob_dict = setProb()\n",
    "    y_list = [[],[]]\n",
    "    for i in range(2):\n",
    "        for _ in range(1000):\n",
    "            y = pyro.do(model, \n",
    "                    data={'x': torch.tensor(i)})(prob_dict)\n",
    "            y_list[i].append(y)\n",
    "    p0 = plotHist(y_list[0], 'P(Y = 1 | do(X = 0)) =', show=False)\n",
    "    p1 = plotHist(y_list[1], 'P(Y = 1 | do(X = 1)) =', show=False)\n",
    "    print('P(Y = 1 | do(X = 0)) - P(Y = 1 | do(X = 1)) =' + str(p0-p1))"
   ]
  },
  {
   "cell_type": "code",
   "execution_count": 8,
   "metadata": {
    "ExecuteTime": {
     "end_time": "2019-06-30T20:17:29.847716Z",
     "start_time": "2019-06-30T20:17:28.899525Z"
    }
   },
   "outputs": [
    {
     "name": "stdout",
     "output_type": "stream",
     "text": [
      "P(Y = 1 | do(X = 0)) =0.815\n",
      "P(Y = 1 | do(X = 1)) =0.784\n",
      "P(Y = 1 | do(X = 0)) - P(Y = 1 | do(X = 1)) =0.030999999999999917\n"
     ]
    }
   ],
   "source": [
    "drawHist()"
   ]
  },
  {
   "cell_type": "markdown",
   "metadata": {},
   "source": [
    "### 2.2"
   ]
  },
  {
   "cell_type": "code",
   "execution_count": 9,
   "metadata": {
    "ExecuteTime": {
     "end_time": "2019-06-30T20:17:29.863100Z",
     "start_time": "2019-06-30T20:17:29.850411Z"
    }
   },
   "outputs": [],
   "source": [
    "def setProb():\n",
    "    x = [0.5, 0.5]\n",
    "    z = [ \n",
    "            [0.95, 0.05], \n",
    "            [0.05, 0.95]\n",
    "        ]\n",
    "    y = [\n",
    "            [0.81, 0.19], \n",
    "            [0.14, 0.86]\n",
    "        ]\n",
    "    prob_dict = { 'z': z, 'x': x, 'y': y}\n",
    "    return prob_dict"
   ]
  },
  {
   "cell_type": "code",
   "execution_count": 10,
   "metadata": {
    "ExecuteTime": {
     "end_time": "2019-06-30T20:17:29.880659Z",
     "start_time": "2019-06-30T20:17:29.867412Z"
    }
   },
   "outputs": [],
   "source": [
    "def setProb():\n",
    "    x = [0.5, 0.5]\n",
    "    z = [ \n",
    "            [0.05, 0.95], \n",
    "            [0.95, 0.05]\n",
    "        ]\n",
    "    y = [\n",
    "            [0.81, 0.19], \n",
    "            [0.14, 0.86]\n",
    "        ]\n",
    "    prob_dict = { 'z': z, 'x': x, 'y': y}\n",
    "    return prob_dict"
   ]
  },
  {
   "cell_type": "code",
   "execution_count": 11,
   "metadata": {
    "ExecuteTime": {
     "end_time": "2019-06-30T20:17:29.901016Z",
     "start_time": "2019-06-30T20:17:29.884628Z"
    }
   },
   "outputs": [],
   "source": [
    "def model(prob_dict):\n",
    "    x = pyro.sample(\"x\", \n",
    "            pyro.distributions.Categorical(torch.tensor(prob_dict['x'])))\n",
    "    z = pyro.sample(\"z\",\n",
    "            pyro.distributions.Categorical(torch.tensor(prob_dict['z'][x])))\n",
    "    \n",
    "    \n",
    "    y = pyro.sample(\"y\", \n",
    "            pyro.distributions.Categorical(torch.tensor(prob_dict['y'][z])))\n",
    "    \n",
    "    return y"
   ]
  },
  {
   "cell_type": "markdown",
   "metadata": {},
   "source": [
    "#### 2.2.1 User context is unobserved.  Use pyro.condition to calculate the causal effect of social media on conversions using front-door adjustment."
   ]
  },
  {
   "cell_type": "code",
   "execution_count": 12,
   "metadata": {
    "ExecuteTime": {
     "end_time": "2019-06-30T20:17:29.935259Z",
     "start_time": "2019-06-30T20:17:29.910245Z"
    }
   },
   "outputs": [],
   "source": [
    "def drawHist():\n",
    "    prob_dict = setProb()\n",
    "    y_list = []\n",
    "    probs = []\n",
    "    probs_final = []\n",
    "    for x in range(2):\n",
    "        probs = []\n",
    "        for z in range(2):\n",
    "            p = 0\n",
    "            for x_bar in range(2):\n",
    "                y_list= []\n",
    "                for _ in range(1000):\n",
    "                    y = pyro.condition(model, \n",
    "                            data={'x': torch.tensor(x_bar), 'z': torch.tensor(z)})(prob_dict)\n",
    "                    y_list.append(y)\n",
    "                current_p = plotHist(y_list, 'P(Y = 1 | X_bar = '+str(x_bar)+', Z = '+str(z)+') =', \n",
    "                                     show=False, header=False)\n",
    "                p +=  current_p * prob_dict['x'][x_bar] * prob_dict['z'][x][z]\n",
    "            probs.append(p)\n",
    "        probs_final.append(sum(probs))\n",
    "    print('P(Y=1|do(X=0)) = ' + str(probs_final[0]))\n",
    "    print('P(Y=1|do(X=1)) = ' + str(probs_final[1]))\n",
    "    print('P(Y=1|do(X=0)) - P(Y=1|do(X=1)) = ' + str(probs_final[0]-probs_final[1]))\n",
    "    return probs_final"
   ]
  },
  {
   "cell_type": "code",
   "execution_count": 13,
   "metadata": {
    "ExecuteTime": {
     "end_time": "2019-06-30T20:17:33.003182Z",
     "start_time": "2019-06-30T20:17:29.947031Z"
    }
   },
   "outputs": [
    {
     "name": "stdout",
     "output_type": "stream",
     "text": [
      "P(Y=1|do(X=0)) = 0.8196249999999999\n",
      "P(Y=1|do(X=1)) = 0.219525\n",
      "P(Y=1|do(X=0)) - P(Y=1|do(X=1)) = 0.6001\n"
     ]
    }
   ],
   "source": [
    "probs = drawHist()"
   ]
  },
  {
   "cell_type": "markdown",
   "metadata": {},
   "source": [
    "#### 2.2.2 Verify your result from number 1 using do-calculus with pyro.do"
   ]
  },
  {
   "cell_type": "code",
   "execution_count": 14,
   "metadata": {
    "ExecuteTime": {
     "end_time": "2019-06-30T20:17:33.012656Z",
     "start_time": "2019-06-30T20:17:33.005214Z"
    }
   },
   "outputs": [],
   "source": [
    "def drawHist():\n",
    "    prob_dict = setProb()\n",
    "    y_list = [[],[]]\n",
    "    for i in range(2):\n",
    "        for _ in range(1000):\n",
    "            y = pyro.do(model, \n",
    "                    data={'x': torch.tensor(i)})(prob_dict)\n",
    "            y_list[i].append(y)\n",
    "    p0 = plotHist(y_list[0], 'P(Y = 1 | do(X = 0)) =', show=False)\n",
    "    p1 = plotHist(y_list[1], 'P(Y = 1 | do(X = 1)) =', show=False)\n",
    "    print('P(Y = 1 | do(X = 0)) - P(Y = 1 | do(X = 1)) =' + str(p0-p1))"
   ]
  },
  {
   "cell_type": "code",
   "execution_count": 15,
   "metadata": {
    "ExecuteTime": {
     "end_time": "2019-06-30T20:17:33.981978Z",
     "start_time": "2019-06-30T20:17:33.017888Z"
    }
   },
   "outputs": [
    {
     "name": "stdout",
     "output_type": "stream",
     "text": [
      "P(Y = 1 | do(X = 0)) =0.86\n",
      "P(Y = 1 | do(X = 1)) =0.243\n",
      "P(Y = 1 | do(X = 0)) - P(Y = 1 | do(X = 1)) =0.617\n"
     ]
    }
   ],
   "source": [
    "drawHist()"
   ]
  },
  {
   "cell_type": "markdown",
   "metadata": {},
   "source": [
    "## Q3"
   ]
  },
  {
   "cell_type": "markdown",
   "metadata": {},
   "source": [
    "### 3.1 Use the data in problem 2.1 to create the following propensity score function"
   ]
  },
  {
   "cell_type": "code",
   "execution_count": 16,
   "metadata": {
    "ExecuteTime": {
     "end_time": "2019-06-30T20:17:34.001235Z",
     "start_time": "2019-06-30T20:17:33.986384Z"
    }
   },
   "outputs": [],
   "source": [
    "def setProb():\n",
    "    z = [0.51, 0.49]\n",
    "    x = [ [0.25, 0.75], \n",
    "          [0.76, 0.24]\n",
    "        ]\n",
    "    y = [   [[0.07, 0.93], \n",
    "             [0.13, 0.87]],\n",
    "            [[0.27, 0.73], \n",
    "             [0.31, 0.69]]   \n",
    "        ]\n",
    "    prob_dict = { 'z': z, 'x': x, 'y': y}\n",
    "    return prob_dict"
   ]
  },
  {
   "cell_type": "code",
   "execution_count": 17,
   "metadata": {
    "ExecuteTime": {
     "end_time": "2019-06-30T20:17:34.012462Z",
     "start_time": "2019-06-30T20:17:34.005717Z"
    }
   },
   "outputs": [],
   "source": [
    "def getPropensity(x, z, prob_dict = setProb()):\n",
    "    return prob_dict['x'][z][x]"
   ]
  },
  {
   "cell_type": "code",
   "execution_count": 18,
   "metadata": {
    "ExecuteTime": {
     "end_time": "2019-06-30T20:17:34.039845Z",
     "start_time": "2019-06-30T20:17:34.027636Z"
    }
   },
   "outputs": [],
   "source": [
    "def model(prob_dict):\n",
    "    z = pyro.sample(\"z\", \n",
    "            pyro.distributions.Categorical(torch.tensor(prob_dict['z'])))\n",
    "    x = pyro.sample(\"x\",\n",
    "            pyro.distributions.Categorical(torch.tensor(prob_dict['x'][z])))\n",
    "    y = pyro.sample(\"y\", \n",
    "            pyro.distributions.Categorical(torch.tensor(prob_dict['y'][z][x])))\n",
    "    \n",
    "    return y"
   ]
  },
  {
   "cell_type": "markdown",
   "metadata": {},
   "source": [
    "### 3.2 Get 1000 Samples & Print first 10"
   ]
  },
  {
   "cell_type": "code",
   "execution_count": 19,
   "metadata": {
    "ExecuteTime": {
     "end_time": "2019-06-30T20:17:34.056243Z",
     "start_time": "2019-06-30T20:17:34.043787Z"
    }
   },
   "outputs": [],
   "source": [
    "def getSamples():\n",
    "    trace_handler = pyro.poutine.trace(model)\n",
    "    prob_dict = setProb()\n",
    "    samples = []\n",
    "    for i in range(1000):\n",
    "        trace = trace_handler.get_trace(prob_dict)\n",
    "        x = trace.nodes['x']['value']\n",
    "        z = trace.nodes['z']['value']\n",
    "        y = trace.nodes['y']['value']\n",
    "        log_prob = trace.log_prob_sum()\n",
    "        p = np.exp(log_prob)\n",
    "        samples.append({'z': z,'x' : x,'y' : y, 'p' : p})\n",
    "    return samples"
   ]
  },
  {
   "cell_type": "code",
   "execution_count": 20,
   "metadata": {
    "ExecuteTime": {
     "end_time": "2019-06-30T20:17:35.667366Z",
     "start_time": "2019-06-30T20:17:34.064755Z"
    }
   },
   "outputs": [
    {
     "data": {
      "text/plain": [
       "[{'z': tensor(0), 'x': tensor(1), 'y': tensor(1), 'p': tensor(0.3328)},\n",
       " {'z': tensor(1), 'x': tensor(0), 'y': tensor(1), 'p': tensor(0.2719)},\n",
       " {'z': tensor(1), 'x': tensor(0), 'y': tensor(0), 'p': tensor(0.1005)},\n",
       " {'z': tensor(0), 'x': tensor(1), 'y': tensor(1), 'p': tensor(0.3328)},\n",
       " {'z': tensor(1), 'x': tensor(0), 'y': tensor(1), 'p': tensor(0.2719)},\n",
       " {'z': tensor(0), 'x': tensor(1), 'y': tensor(1), 'p': tensor(0.3328)},\n",
       " {'z': tensor(0), 'x': tensor(0), 'y': tensor(1), 'p': tensor(0.1186)},\n",
       " {'z': tensor(0), 'x': tensor(1), 'y': tensor(1), 'p': tensor(0.3328)},\n",
       " {'z': tensor(1), 'x': tensor(0), 'y': tensor(1), 'p': tensor(0.2719)},\n",
       " {'z': tensor(0), 'x': tensor(1), 'y': tensor(0), 'p': tensor(0.0497)}]"
      ]
     },
     "execution_count": 20,
     "metadata": {},
     "output_type": "execute_result"
    }
   ],
   "source": [
    "samples = getSamples()\n",
    "samples[:10]"
   ]
  },
  {
   "cell_type": "markdown",
   "metadata": {},
   "source": [
    "### 3.3 Get Weights"
   ]
  },
  {
   "cell_type": "code",
   "execution_count": 21,
   "metadata": {
    "ExecuteTime": {
     "end_time": "2019-06-30T20:17:35.684157Z",
     "start_time": "2019-06-30T20:17:35.670677Z"
    }
   },
   "outputs": [],
   "source": [
    "def getWeights(samples):\n",
    "    weights = []\n",
    "    for sample in samples:\n",
    "        prob = sample['p'].item()\n",
    "        x = sample['x'].item()\n",
    "        y = sample['y'].item()\n",
    "        z = sample['z'].item()\n",
    "        weights.append((x, y, z, (prob / getPropensity(x,z))))\n",
    "    return np.array([i for i in set(weights)])"
   ]
  },
  {
   "cell_type": "code",
   "execution_count": 22,
   "metadata": {
    "ExecuteTime": {
     "end_time": "2019-06-30T20:17:35.713919Z",
     "start_time": "2019-06-30T20:17:35.691509Z"
    }
   },
   "outputs": [],
   "source": [
    "weights = getWeights(samples)"
   ]
  },
  {
   "cell_type": "markdown",
   "metadata": {},
   "source": [
    "### 3.4 Samples with replacement"
   ]
  },
  {
   "cell_type": "code",
   "execution_count": 23,
   "metadata": {
    "ExecuteTime": {
     "end_time": "2019-06-30T20:17:35.733497Z",
     "start_time": "2019-06-30T20:17:35.723122Z"
    }
   },
   "outputs": [],
   "source": [
    "omega = random.choices(weights, weights[:, 3], k=1000)"
   ]
  },
  {
   "cell_type": "markdown",
   "metadata": {},
   "source": [
    "### 3.5 Comparing to 2.1"
   ]
  },
  {
   "cell_type": "code",
   "execution_count": 24,
   "metadata": {
    "ExecuteTime": {
     "end_time": "2019-06-30T20:17:35.748326Z",
     "start_time": "2019-06-30T20:17:35.737079Z"
    }
   },
   "outputs": [],
   "source": [
    "def compare(probs, omega):\n",
    "    for x in range(2):\n",
    "        filtered = [item for item in omega if item[0].item()==x]\n",
    "        omega_prob = len([item for item in filtered if item[1].item()==1])/len(filtered)\n",
    "        print('For P(Y=1|do(X='+str(x)+')')\n",
    "        print('Model probability = ' + str(probs[x]))\n",
    "        print('Omega probability = ' + str(omega_prob))\n",
    "        print('\\n')"
   ]
  },
  {
   "cell_type": "code",
   "execution_count": 25,
   "metadata": {
    "ExecuteTime": {
     "end_time": "2019-06-30T20:17:35.770015Z",
     "start_time": "2019-06-30T20:17:35.754581Z"
    }
   },
   "outputs": [
    {
     "name": "stdout",
     "output_type": "stream",
     "text": [
      "For P(Y=1|do(X=0)\n",
      "Model probability = 0.83404\n",
      "Omega probability = 0.829126213592233\n",
      "\n",
      "\n",
      "For P(Y=1|do(X=1)\n",
      "Model probability = 0.78607\n",
      "Omega probability = 0.8020618556701031\n",
      "\n",
      "\n"
     ]
    }
   ],
   "source": [
    "compare(probs_21,omega)"
   ]
  },
  {
   "cell_type": "markdown",
   "metadata": {},
   "source": [
    "## Q4"
   ]
  },
  {
   "cell_type": "markdown",
   "metadata": {},
   "source": [
    "### 4.1 SCM Writing the model in Pyro and generating 10 samples of X and Y.\n",
    "\n",
    "Consider the SCM $\\mathbb{M}$:\n",
    "\n",
    "\\begin{align*}\n",
    "X &:=N_X \\\\\n",
    "Y &:=X^2 + N_Y \\\\\n",
    "N_X, N_Y &\\overset{\\text{i.i.d}}{\\sim} N(0, 1)\n",
    "\\end{align*}"
   ]
  },
  {
   "cell_type": "code",
   "execution_count": 26,
   "metadata": {
    "ExecuteTime": {
     "end_time": "2019-06-30T20:17:35.785098Z",
     "start_time": "2019-06-30T20:17:35.774491Z"
    }
   },
   "outputs": [],
   "source": [
    "def model():\n",
    "    nx = pyro.sample(\"Nx\", \n",
    "            pyro.distributions.Normal(0., 1.))\n",
    "    x = pyro.sample(\"x\",  \n",
    "            pyro.distributions.Normal(nx, 0.05))\n",
    "    y = pyro.sample(\"y\", \n",
    "            pyro.distributions.Normal(0., 1.))\n",
    "    return x**2 + y"
   ]
  },
  {
   "cell_type": "code",
   "execution_count": 27,
   "metadata": {
    "ExecuteTime": {
     "end_time": "2019-06-30T20:17:35.799755Z",
     "start_time": "2019-06-30T20:17:35.788851Z"
    }
   },
   "outputs": [],
   "source": [
    "def getSamples():\n",
    "    trace_handler = pyro.poutine.trace(model)\n",
    "    samples = []\n",
    "    for i in range(10):\n",
    "        trace = trace_handler.get_trace()\n",
    "        x = trace.nodes['x']['value']\n",
    "        y = trace.nodes['y']['value']\n",
    "        log_prob = trace.log_prob_sum()\n",
    "        p = np.exp(log_prob)\n",
    "        samples.append({'x' : x,'y' : y, 'p' : p})\n",
    "    return samples"
   ]
  },
  {
   "cell_type": "code",
   "execution_count": 28,
   "metadata": {
    "ExecuteTime": {
     "end_time": "2019-06-30T20:17:35.847916Z",
     "start_time": "2019-06-30T20:17:35.803137Z"
    }
   },
   "outputs": [
    {
     "data": {
      "text/plain": [
       "[{'x': tensor(0.0040), 'y': tensor(-0.2804), 'p': tensor(0.4071)},\n",
       " {'x': tensor(-1.8724), 'y': tensor(1.3289), 'p': tensor(0.0910)},\n",
       " {'x': tensor(-0.6634), 'y': tensor(0.3362), 'p': tensor(0.2682)},\n",
       " {'x': tensor(0.3810), 'y': tensor(-0.8974), 'p': tensor(0.7796)},\n",
       " {'x': tensor(-1.5288), 'y': tensor(0.7139), 'p': tensor(0.2553)},\n",
       " {'x': tensor(-0.2539), 'y': tensor(-0.4696), 'p': tensor(0.2472)},\n",
       " {'x': tensor(0.5801), 'y': tensor(-0.1498), 'p': tensor(0.4225)},\n",
       " {'x': tensor(-0.8303), 'y': tensor(1.1231), 'p': tensor(0.3319)},\n",
       " {'x': tensor(-0.0121), 'y': tensor(-0.9079), 'p': tensor(0.7476)},\n",
       " {'x': tensor(-0.4371), 'y': tensor(-0.3758), 'p': tensor(1.0262)}]"
      ]
     },
     "execution_count": 28,
     "metadata": {},
     "output_type": "execute_result"
    }
   ],
   "source": [
    "getSamples()"
   ]
  },
  {
   "cell_type": "markdown",
   "metadata": {},
   "source": [
    "### 4.2 "
   ]
  },
  {
   "cell_type": "markdown",
   "metadata": {},
   "source": [
    "Consider the SCM $\\mathbb{M}$:\n",
    "\n",
    "\\begin{align*}\n",
    "X &:=N_X \\\\\n",
    "Y &:=4X + N_Y \\\\\n",
    "N_X, N_Y &\\overset{\\text{i.i.d}}{\\sim} N(0, 1)\n",
    "\\end{align*}\n"
   ]
  },
  {
   "cell_type": "markdown",
   "metadata": {},
   "source": [
    "#### 4.2.1 Draw a Model of the dag"
   ]
  },
  {
   "cell_type": "markdown",
   "metadata": {
    "ExecuteTime": {
     "end_time": "2019-06-27T23:45:45.520684Z",
     "start_time": "2019-06-27T23:45:45.510050Z"
    }
   },
   "source": [
    "$N_x$ ----> X --4--> Y <---- $N_y$"
   ]
  },
  {
   "cell_type": "markdown",
   "metadata": {},
   "source": [
    "#### 4.2.2  $P^{\\mathbb{M}}_Y$ is a normal distribution with what mean and variance?\n",
    "\n",
    "\n",
    "**Mean:** (4*$\\mu_{x}$) + $\\mu_{y}$ = 0\n",
    "\n",
    "**Variance:** ($4^2 * \\sigma_{x}^2) + \\sigma_{y}^2$ = 17"
   ]
  },
  {
   "cell_type": "markdown",
   "metadata": {},
   "source": [
    "#### 4.2.3 $P^{\\mathbb{M}:do(X=2)}_Y$ is a normal distribution with what mean and variance?\n",
    "\n",
    "**Mean:** <br> <br>\n",
    "$\\mu_{do(X=2)}$ = 2 <br><br>\n",
    "(4*$\\mu_{do(X=2)}$) + $\\mu_{y}$ = 8\n",
    "\n",
    "**Variance:** <br> <br>\n",
    "$\\sigma_{do(X=2)}^2$ = 0 <br><br>\n",
    "($4^2 * \\sigma_{do(X=2)}^2) + \\sigma_{y}^2$ = 1"
   ]
  },
  {
   "cell_type": "markdown",
   "metadata": {},
   "source": [
    "#### 4.2.4 How and why does $P^{\\mathbb{M}: X=2}_{Y}$ differ or not differ from $P^{\\mathbb{M}:do(X=2)}_Y$?\n",
    "\n",
    "It's the same. X=2 and do(X=2) does not channge the SCM structure and does not change the P(Y)"
   ]
  },
  {
   "cell_type": "markdown",
   "metadata": {},
   "source": [
    "#### 4.2.6 $P^{\\mathbb{M}:do(Y=2)}_X$ is a normal distribution with what mean and variance?\n",
    "\n",
    "**Mean:** <br> <br>\n",
    "$\\mu_{X}$ = 0 <br><br>\n",
    "\n",
    "**Variance:** <br> <br>\n",
    "$\\sigma_{X}^2$ = 1 <br><br>\n",
    "\n",
    "\n"
   ]
  },
  {
   "cell_type": "markdown",
   "metadata": {},
   "source": [
    "#### 4.2.7 Write this model in code and generate 10 samples from $P^{\\mathbb{M}}_{X, Y}$.\n"
   ]
  },
  {
   "cell_type": "code",
   "execution_count": 29,
   "metadata": {
    "ExecuteTime": {
     "end_time": "2019-06-30T20:17:35.856834Z",
     "start_time": "2019-06-30T20:17:35.852115Z"
    }
   },
   "outputs": [],
   "source": [
    "PDelta = partial(Normal, scale=.1)"
   ]
  },
  {
   "cell_type": "code",
   "execution_count": 30,
   "metadata": {
    "ExecuteTime": {
     "end_time": "2019-06-30T20:17:35.877819Z",
     "start_time": "2019-06-30T20:17:35.862079Z"
    }
   },
   "outputs": [],
   "source": [
    "def fx(N):\n",
    "    X = N\n",
    "    return X\n",
    "\n",
    "def fy(X, N):\n",
    "    Y = 4 * X + N\n",
    "    return Y\n",
    "\n",
    "def model():\n",
    "    nx = pyro.sample(\"Nx\", Normal(0., 1.))\n",
    "    ny = pyro.sample(\"Ny\", Normal(0., 1.))\n",
    "    \n",
    "    x = pyro.sample(\"x\", PDelta(fx(nx)))\n",
    "    y = pyro.sample(\"y\", PDelta(fy(x, ny)))\n",
    "    return y"
   ]
  },
  {
   "cell_type": "code",
   "execution_count": 31,
   "metadata": {
    "ExecuteTime": {
     "end_time": "2019-06-30T20:17:35.896001Z",
     "start_time": "2019-06-30T20:17:35.884730Z"
    }
   },
   "outputs": [],
   "source": [
    "def getSamples():\n",
    "    trace_handler = pyro.poutine.trace(model)\n",
    "    samples = []\n",
    "    for i in range(10):\n",
    "        trace = trace_handler.get_trace()\n",
    "        x = trace.nodes['x']['value']\n",
    "        y = trace.nodes['y']['value']\n",
    "        log_prob = trace.log_prob_sum()\n",
    "        p = np.exp(log_prob)\n",
    "        samples.append({'x' : x,'y' : y, 'p' : p})\n",
    "    return samples"
   ]
  },
  {
   "cell_type": "code",
   "execution_count": 32,
   "metadata": {
    "ExecuteTime": {
     "end_time": "2019-06-30T20:17:35.949915Z",
     "start_time": "2019-06-30T20:17:35.900889Z"
    }
   },
   "outputs": [
    {
     "data": {
      "text/plain": [
       "[{'x': tensor(-0.3999), 'y': tensor(0.2578), 'p': tensor(0.3221)},\n",
       " {'x': tensor(0.2348), 'y': tensor(1.4508), 'p': tensor(0.4627)},\n",
       " {'x': tensor(0.2057), 'y': tensor(0.2668), 'p': tensor(1.0410)},\n",
       " {'x': tensor(-0.0897), 'y': tensor(-0.1996), 'p': tensor(0.2368)},\n",
       " {'x': tensor(0.5698), 'y': tensor(2.0702), 'p': tensor(1.3158)},\n",
       " {'x': tensor(-0.8433), 'y': tensor(-4.3542), 'p': tensor(0.2162)},\n",
       " {'x': tensor(0.0559), 'y': tensor(1.3810), 'p': tensor(0.8605)},\n",
       " {'x': tensor(-0.8456), 'y': tensor(-4.5309), 'p': tensor(0.2993)},\n",
       " {'x': tensor(-0.6300), 'y': tensor(-1.6590), 'p': tensor(1.0822)},\n",
       " {'x': tensor(-2.0576), 'y': tensor(-7.9896), 'p': tensor(0.1190)}]"
      ]
     },
     "execution_count": 32,
     "metadata": {},
     "output_type": "execute_result"
    }
   ],
   "source": [
    "getSamples()"
   ]
  },
  {
   "cell_type": "markdown",
   "metadata": {},
   "source": [
    "#### 4.2.8 Use the `do` operator to generate 100 samples from $P^{\\mathbb{M}:do(X=2)}_Y$ and visualize the results in a histogram."
   ]
  },
  {
   "cell_type": "code",
   "execution_count": 33,
   "metadata": {
    "ExecuteTime": {
     "end_time": "2019-06-30T20:17:35.964672Z",
     "start_time": "2019-06-30T20:17:35.954349Z"
    }
   },
   "outputs": [],
   "source": [
    "def drawHist():\n",
    "    y_list = []\n",
    "    for _ in range(100):\n",
    "        y = pyro.do(model, \n",
    "                data={'x': torch.tensor(2)})\n",
    "        y_list.append(y())\n",
    "    _ = plotHist(y_list, 'P(Y | do(X = 2)) = ', show=True, header=False)\n",
    "    print('Mean : ' + str(np.mean(y_list)))"
   ]
  },
  {
   "cell_type": "code",
   "execution_count": 34,
   "metadata": {
    "ExecuteTime": {
     "end_time": "2019-06-30T20:17:36.437694Z",
     "start_time": "2019-06-30T20:17:35.973371Z"
    }
   },
   "outputs": [
    {
     "data": {
      "image/png": "[encoded data removed]",
      "text/plain": [
       "<Figure size 432x288 with 1 Axes>"
      ]
     },
     "metadata": {
      "needs_background": "light"
     },
     "output_type": "display_data"
    },
    {
     "name": "stdout",
     "output_type": "stream",
     "text": [
      "Mean : 7.881965\n"
     ]
    }
   ],
   "source": [
    "drawHist()"
   ]
  },
  {
   "cell_type": "markdown",
   "metadata": {},
   "source": [
    "#### 4.2.9 Use the `condition` operator and a Pyro inference algorithm to generate 10 samples from $P^{\\mathbb{M}:Y=2}_{X}$.  Use one of the Bayesian inference procedures described in the lecture notes."
   ]
  },
  {
   "cell_type": "code",
   "execution_count": 35,
   "metadata": {
    "ExecuteTime": {
     "end_time": "2019-06-30T20:17:36.449587Z",
     "start_time": "2019-06-30T20:17:36.439640Z"
    }
   },
   "outputs": [],
   "source": [
    "def drawHist():\n",
    "    prob_dict = setProb()\n",
    "    age = []\n",
    "    cModel = pyro.condition(model, \n",
    "                data={'y': torch.tensor(2)})\n",
    "    #hmc_kernel = HMC(cModel, step_size=0.1, num_steps=4)\n",
    "    nuts_kernel = NUTS(cModel, adapt_step_size=True)\n",
    "    posterior = MCMC(nuts_kernel, \n",
    "                 num_samples=1000, \n",
    "                 warmup_steps=100).run()\n",
    "\n",
    "    marginal = EmpiricalMarginal(posterior, \"x\")\n",
    "    x = [marginal().item() for _ in range(10)]\n",
    "    plt.hist(x)\n",
    "    print(np.mean(x))"
   ]
  },
  {
   "cell_type": "code",
   "execution_count": 36,
   "metadata": {
    "ExecuteTime": {
     "end_time": "2019-06-30T20:19:54.493937Z",
     "start_time": "2019-06-30T20:17:36.452938Z"
    }
   },
   "outputs": [
    {
     "name": "stderr",
     "output_type": "stream",
     "text": [
      "Sample: 100%|██████████| 1100/1100 [02:17<00:00,  7.99it/s, step size=5.93e-02, acc. rate=0.985]\n"
     ]
    },
    {
     "name": "stdout",
     "output_type": "stream",
     "text": [
      "0.5875803843140602\n"
     ]
    },
    {
     "data": {
      "image/png": "[encoded data removed]",
      "text/plain": [
       "<Figure size 432x288 with 1 Axes>"
      ]
     },
     "metadata": {
      "needs_background": "light"
     },
     "output_type": "display_data"
    }
   ],
   "source": [
    "drawHist()"
   ]
  },
  {
   "cell_type": "markdown",
   "metadata": {
    "ExecuteTime": {
     "end_time": "2019-06-28T00:49:51.034986Z",
     "start_time": "2019-06-28T00:49:51.031898Z"
    }
   },
   "source": [
    "### 4.3 Counterfactual inference algorithm\n",
    "\n",
    "X and Y are causes of Z.  The causal mechanism is either an AND gate or and OR gate depending on initial conditions.\n",
    "\n",
    " AND Gate\n",
    " \n",
    " \n",
    "| X | Y | Z |\n",
    "|---|---|---|\n",
    "| 0 | 0 | 0 |\n",
    "| 0 | 1 | 0 |\n",
    "| 1 | 0 | 0 |\n",
    "| 1 | 1 | 1 |\n",
    "\n",
    "OR Gate\n",
    "\n",
    "\n",
    "| X | Y | Z |\n",
    "|---|---|---|\n",
    "| 0 | 0 | 0 |\n",
    "| 0 | 1 | 1 |\n",
    "| 1 | 0 | 1 |\n",
    "| 1 | 1 | 1 |\n",
    "\n",
    "\n",
    "\n",
    "There is a 50% probability it is an AND gate and a 50% probability it is an OR gate.  X and Y both have a 50% chance of being equal to 1 in both of the gates.\n",
    "\n",
    "The following code represents the structural assignments in a structural causal model of this system."
   ]
  },
  {
   "cell_type": "markdown",
   "metadata": {
    "ExecuteTime": {
     "end_time": "2019-06-29T00:21:28.782890Z",
     "start_time": "2019-06-29T00:21:28.777211Z"
    }
   },
   "source": [
    "```\n",
    "def fx(N):\n",
    "    X = N\n",
    "    return X\n",
    "\n",
    "def fy(N):\n",
    "    Y = N\n",
    "    return Y\n",
    "  \n",
    "def fz(X, Y, N):\n",
    "    # Mixture of AND gate and OR gate\n",
    "    Z = N * min((X + Y), torch.tensor(1.)) + (torch.tensor(1.) - N) * (X * Y)\n",
    "    return Z\n",
    "```"
   ]
  },
  {
   "cell_type": "markdown",
   "metadata": {},
   "source": [
    "#### 4.3.1  Suppose we observe that X is 1 and Z is 1.  What is the probability it is an OR gate?\n",
    "\n",
    "\n",
    "P(OR | X = 1, Z = 1) = $\\frac{P(X = 1, Z = 1 | OR) P(OR)}{P(X = 1, Z = 1)}$ = $\\frac{\\frac{2}{4}*\\frac{1}{2}}{\\frac{3}{8}}$ = $\\frac{2}{3}$"
   ]
  },
  {
   "cell_type": "markdown",
   "metadata": {},
   "source": [
    "#### 4.3.2 What is $P(Y = 1 | X = 1, Z = 1)$?\n",
    "\n",
    "\n",
    "P(Y = 1 | X = 1, Z = 1) = $\\frac{P(X = 1, Z = 1 | Y=1) P(Y=1)}{P(X = 1, Z = 1)}$ =$\\frac{\\frac{2}{4}*\\frac{1}{2}}{\\frac{3}{8}}$ = $\\frac{2}{3}$"
   ]
  },
  {
   "cell_type": "markdown",
   "metadata": {},
   "source": [
    "#### 4.3.3 Suppose we observe that X is 1 and Z is 1.  What would Z have been if X were 0?  Express this as a probability distribution (assign a probabilities to Z == 1 and Z == 0). \n",
    "\n",
    "P(AND Gate | X = 1, Z = 1) = $\\frac{1}{3} $ <br><br>\n",
    "P(OR Gate | X = 1, Z = 1) = $\\frac{2}{3} $\n",
    "<br><br>\n",
    "$P(Z = 0 | X = 0)$ and  it was an AND gate = $1 * \\frac{1}{3} = \\frac{1}{3} $ <br><br>\n",
    "$P(Z = 0 | X = 0)$ and  it was an OR gate = $\\frac{1}{2} * \\frac{2}{3}= \\frac{1}{3} $\n",
    "<br><br>\n",
    "$P(Z == 0)$ =  $P(Z = 0 | X = 0)$ and  it was an AND gate  **OR** $P(Z = 0 | X = 0)$ and  it was an OR gate = $\\frac{1}{3} + \\frac{1}{3}= \\frac{2}{3} $\n",
    "\n",
    "$P(Z == 1)$ = 1 - $P(Z == 0)$ = $\\frac{1}{3}$"
   ]
  },
  {
   "cell_type": "markdown",
   "metadata": {},
   "source": [
    "#### 4.3.4 Fill in the \"...\" in the following SCM. "
   ]
  },
  {
   "cell_type": "code",
   "execution_count": 37,
   "metadata": {
    "ExecuteTime": {
     "end_time": "2019-06-30T20:19:54.513812Z",
     "start_time": "2019-06-30T20:19:54.497780Z"
    }
   },
   "outputs": [],
   "source": [
    "def fx(N):\n",
    "    X = N\n",
    "    return X\n",
    "\n",
    "def fy(N):\n",
    "    Y = N\n",
    "    return Y\n",
    "  \n",
    "def fz(X, Y, N):\n",
    "    # Mixture of AND gate and OR gate\n",
    "    Z = N * min((X + Y), torch.tensor(1.)) + (torch.tensor(1.) - N) * (X * Y)\n",
    "    return Z\n",
    "\n",
    "\n",
    "def model():\n",
    "    Nx = pyro.sample('Nx', pyro.distributions.Bernoulli(torch.tensor(.5)))\n",
    "    Ny = pyro.sample('Ny', pyro.distributions.Bernoulli(torch.tensor(.5)))\n",
    "    Nz = pyro.sample('Nz', pyro.distributions.Bernoulli(torch.tensor(.5)))\n",
    "    X = fx(Nx)\n",
    "    Y = fy(Ny)\n",
    "    Z = fz(X, Y, Nz)\n",
    "    return X,Y,Z"
   ]
  },
  {
   "cell_type": "markdown",
   "metadata": {},
   "source": [
    "#### 4.3.5 Condition the model on X = 1 and Z = 1.  Infer the posterior on the noise distribution conditional on X = 1 and Z = 1 using [importance sampling].  Do this by passing the conditioned model to pyro.infer.Importance and naming the resulting object posterior.  You know it worked if type(posterior) returns an object of the class pyro.infer.importance.Importance and type(posterior()) returns and object of the class pyro.poutine.trace_struct.Trace. Calculate $P(Y = 1 | X = 1, Z = 1)$."
   ]
  },
  {
   "cell_type": "code",
   "execution_count": 38,
   "metadata": {
    "ExecuteTime": {
     "end_time": "2019-06-30T20:19:54.542768Z",
     "start_time": "2019-06-30T20:19:54.524577Z"
    }
   },
   "outputs": [],
   "source": [
    "def fx(N):\n",
    "    X = N\n",
    "    return X\n",
    "\n",
    "def fy(N):\n",
    "    Y = N\n",
    "    return Y\n",
    "  \n",
    "def fz(X, Y, N):\n",
    "    # Mixture of AND gate and OR gate\n",
    "    Z = N * min((X + Y), torch.tensor(1.)) + (torch.tensor(1.) - N) * (X * Y)\n",
    "    return Z\n",
    "\n",
    "def model():\n",
    "    Nx = pyro.sample('Nx', pyro.distributions.Bernoulli(torch.tensor(.5)))\n",
    "    Ny = pyro.sample('Ny', pyro.distributions.Bernoulli(torch.tensor(.5)))\n",
    "    Nz = pyro.sample('Nz', pyro.distributions.Bernoulli(torch.tensor(.5)))\n",
    "    \n",
    "    X = pyro.sample('x', pyro.distributions.Delta(fx(Nx)))\n",
    "    Y = pyro.sample('y', pyro.distributions.Delta(fy(Ny)))\n",
    "    Z = pyro.sample('z', pyro.distributions.Delta(fz(X, Y, Nz)))\n",
    "\n",
    "    return Z"
   ]
  },
  {
   "cell_type": "code",
   "execution_count": 39,
   "metadata": {
    "ExecuteTime": {
     "end_time": "2019-06-30T20:19:57.767667Z",
     "start_time": "2019-06-30T20:19:54.544894Z"
    }
   },
   "outputs": [
    {
     "data": {
      "image/png": "[encoded data removed]",
      "text/plain": [
       "<Figure size 432x288 with 1 Axes>"
      ]
     },
     "metadata": {
      "needs_background": "light"
     },
     "output_type": "display_data"
    }
   ],
   "source": [
    "def drawHist():\n",
    "    y = []\n",
    "    cModel = pyro.condition(model, \n",
    "                data={'x': torch.tensor(1.), 'z':torch.tensor(1.)})\n",
    "    importance = Importance(cModel, num_samples=1000).run()\n",
    "    m = EmpiricalMarginal(importance, \"y\")\n",
    "    for _ in range(1000):\n",
    "        t = m().item()\n",
    "        y.append(t)\n",
    "    plt.hist(y)\n",
    "    plt.ylabel('Frequency')\n",
    "    plt.xlabel('Y')\n",
    "    plt.title('P ( Y = 1 | X = 1, Z = 1) = ' + str(sum(y)/len(y)))\n",
    "    plt.show()\n",
    "drawHist()"
   ]
  },
  {
   "cell_type": "markdown",
   "metadata": {},
   "source": [
    "#### 4.3.6 Compute the counterfactual probability $P^{\\text{model}; X = 1, Z = 1, do(X = 0)}(Z = 1)$ using the counterfactual algorithm described in class, and compare the result with your math:"
   ]
  },
  {
   "cell_type": "code",
   "execution_count": 40,
   "metadata": {
    "ExecuteTime": {
     "end_time": "2019-06-30T20:19:57.785567Z",
     "start_time": "2019-06-30T20:19:57.773702Z"
    }
   },
   "outputs": [],
   "source": [
    "def fx(N):\n",
    "    X = N\n",
    "    return X\n",
    "\n",
    "def fy(N):\n",
    "    Y = N\n",
    "    return Y\n",
    "  \n",
    "def fz(X, Y, N):\n",
    "    # Mixture of AND gate and OR gate\n",
    "    Z = N * min((X + Y), torch.tensor(1.)) + (torch.tensor(1.) - N) * (X * Y)\n",
    "    return Z\n",
    "\n",
    "def model():\n",
    "    Nx = pyro.sample('Nx', pyro.distributions.Bernoulli(torch.tensor(.5)))\n",
    "    Ny = pyro.sample('Ny', pyro.distributions.Bernoulli(torch.tensor(.5)))\n",
    "    Nz = pyro.sample('Nz', pyro.distributions.Bernoulli(torch.tensor(.5)))\n",
    "    \n",
    "    X = pyro.sample('x', pyro.distributions.Delta(fx(Nx)))\n",
    "    Y = pyro.sample('y', pyro.distributions.Delta(fy(Ny)))\n",
    "    Z = pyro.sample('z', pyro.distributions.Delta(fz(X, Y, Nz)))\n",
    "\n",
    "    return Z"
   ]
  },
  {
   "cell_type": "markdown",
   "metadata": {},
   "source": [
    "##### 4.3.6.1 Create an intervention model using the intervention $do(X = 0)$.\n",
    "##### 4.3.6.2 As in problem 3, iteratively generate samples of Z by sampling a trace from the posterior in each iteration.\n",
    "##### 4.3.6.3 In each iteration, pull the values Nx, Ny, and Nz from the trace and condition the intervention model on these values. Then generate a sample value of Z.  Each time you do this, you simulate the counterfactual model by using noise values conditional on real evidence, and combining it with an intervention that conflicts with that evidence.\n",
    "##### 4.3.6.4 Calculate $P^{\\text{model}; X = 1, Z = 1, do(X = 0)}(Z = 1)$ as the average value of Z in the samples."
   ]
  },
  {
   "cell_type": "code",
   "execution_count": 41,
   "metadata": {
    "ExecuteTime": {
     "end_time": "2019-06-30T20:20:01.348317Z",
     "start_time": "2019-06-30T20:19:57.789532Z"
    }
   },
   "outputs": [
    {
     "data": {
      "image/png": "[encoded data removed]",
      "text/plain": [
       "<Figure size 432x288 with 1 Axes>"
      ]
     },
     "metadata": {
      "needs_background": "light"
     },
     "output_type": "display_data"
    }
   ],
   "source": [
    "def drawHist():\n",
    "    cond_model = pyro.condition(model, {'x': torch.tensor(1.), 'z': torch.tensor(1.)})\n",
    "    do_model = pyro.do(model, {'x': torch.tensor(0.)})\n",
    "    posterior = pyro.infer.Importance(cond_model, num_samples=1000).run()\n",
    "\n",
    "    y = []\n",
    "    for i in range(1000):\n",
    "        trace = posterior()\n",
    "        nx = trace.nodes['Nx']['value']\n",
    "        ny = trace.nodes['Ny']['value']\n",
    "        nz = trace.nodes['Nz']['value']\n",
    "        sample = pyro.condition(do_model, {'Nx': nx, 'Ny': ny, 'Nz': nz})()\n",
    "        y.append(sample)\n",
    "\n",
    "    plt.hist(y)\n",
    "    plt.ylabel('Frequency')\n",
    "    plt.xlabel('Y')\n",
    "    plt.title('P(Z==1) = ' + str(np.mean(y)))\n",
    "    plt.show()\n",
    "\n",
    "    \n",
    "drawHist()"
   ]
  }
 ],
 "metadata": {
  "kernelspec": {
   "display_name": "Python 3",
   "language": "python",
   "name": "python3"
  },
  "language_info": {
   "codemirror_mode": {
    "name": "ipython",
    "version": 3
   },
   "file_extension": ".py",
   "mimetype": "text/x-python",
   "name": "python",
   "nbconvert_exporter": "python",
   "pygments_lexer": "ipython3",
   "version": "3.6.7"
  }
 },
 "nbformat": 4,
 "nbformat_minor": 2
}
